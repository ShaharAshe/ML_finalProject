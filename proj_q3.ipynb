{
 "cells": [
  {
   "cell_type": "markdown",
   "metadata": {},
   "source": [
    "### Submitted by:\n",
    "- Shahar Asher\n",
    "- Hadar Liel Harush"
   ]
  },
  {
   "cell_type": "code",
   "execution_count": 121,
   "metadata": {},
   "outputs": [],
   "source": [
    "import numpy as np"
   ]
  },
  {
   "cell_type": "code",
   "execution_count": 122,
   "metadata": {},
   "outputs": [],
   "source": [
    "np.random.seed(0)\n",
    "\n",
    "def GenRundomRull()->str:\n",
    "    operators = ['and', 'or']\n",
    "    pixels = ['p1', 'p2', 'p3', 'p4', 'p5', 'p6', 'p7', 'p8', 'p9']\n",
    "    rull = ''\n",
    "    closing = []\n",
    "\n",
    "    rull_len = np.random.randint(1, 10)\n",
    "    for i in range(rull_len):\n",
    "        is_closing = False\n",
    "        if i != 0:\n",
    "            rull += ' '\n",
    "            rull += f'{np.random.choice(operators, 1)[0]} '\n",
    "            is_closing = np.random.randint(10) != 0\n",
    "        if is_closing and len(closing) == 0 and i != rull_len-1:\n",
    "            rull += '('\n",
    "            closing.append(')')\n",
    "        else:\n",
    "            is_closing = False\n",
    "\n",
    "        if np.random.randint(10) == 0:\n",
    "            rull += 'not '\n",
    "        rull += f'{np.random.choice(pixels,1)[0]}'\n",
    "        if not is_closing and len(closing) != 0:\n",
    "            rull += ')'\n",
    "            closing.pop()\n",
    "    return rull"
   ]
  },
  {
   "cell_type": "code",
   "execution_count": 123,
   "metadata": {},
   "outputs": [
    {
     "name": "stdout",
     "output_type": "stream",
     "text": [
      "not p4 or (p4 or p8) and (p2 and p9) or p9\n"
     ]
    }
   ],
   "source": [
    "print(GenRundomRull())"
   ]
  }
 ],
 "metadata": {
  "kernelspec": {
   "display_name": "base",
   "language": "python",
   "name": "python3"
  },
  "language_info": {
   "codemirror_mode": {
    "name": "ipython",
    "version": 3
   },
   "file_extension": ".py",
   "mimetype": "text/x-python",
   "name": "python",
   "nbconvert_exporter": "python",
   "pygments_lexer": "ipython3",
   "version": "3.11.5"
  }
 },
 "nbformat": 4,
 "nbformat_minor": 2
}
