{
 "cells": [
  {
   "cell_type": "markdown",
   "metadata": {},
   "source": [
    "### Submitted by:\n",
    "- Shahar Asher\n",
    "- Hadar Liel Harush"
   ]
  },
  {
   "cell_type": "code",
   "execution_count": 135,
   "metadata": {},
   "outputs": [],
   "source": [
    "import numpy as np"
   ]
  },
  {
   "cell_type": "code",
   "execution_count": 136,
   "metadata": {},
   "outputs": [],
   "source": [
    "np.random.seed(0)\n",
    "\n",
    "def GenRundomRull()->str:\n",
    "    operators = ['and', 'or']\n",
    "    pixels = ['p1', 'p2', 'p3', 'p4', 'p5', 'p6', 'p7', 'p8', 'p9']\n",
    "    rull = ''\n",
    "    closing = []\n",
    "\n",
    "    rull_len = np.random.randint(1, 10)\n",
    "    for i in range(rull_len):\n",
    "        is_closing = False\n",
    "        if i != 0:\n",
    "            rull += ' '\n",
    "            rull += f'{np.random.choice(operators, 1)[0]} '\n",
    "            is_closing = np.random.randint(10) != 0\n",
    "        if is_closing and len(closing) == 0 and i != rull_len-1:\n",
    "            rull += '('\n",
    "            closing.append(')')\n",
    "        else:\n",
    "            is_closing = False\n",
    "\n",
    "        if np.random.randint(10) == 0:\n",
    "            rull += 'not '\n",
    "        rull += f'{np.random.choice(pixels,1)[0]}'\n",
    "        if not is_closing and len(closing) != 0:\n",
    "            rull += ')'\n",
    "            closing.pop()\n",
    "    return rull"
   ]
  },
  {
   "cell_type": "code",
   "execution_count": 137,
   "metadata": {},
   "outputs": [
    {
     "name": "stdout",
     "output_type": "stream",
     "text": [
      "not p4 or (p4 or p8) and (p2 and p9) or p9\n",
      "['not', 'p4', 'or', '(p4', 'or', 'p8)', 'and', '(p2', 'and', 'p9)', 'or', 'p9']\n"
     ]
    }
   ],
   "source": [
    "generare_rull = GenRundomRull()\n",
    "print(generare_rull)\n",
    "generare_rull_list = generare_rull.split(' ')\n",
    "print(generare_rull_list)"
   ]
  },
  {
   "cell_type": "code",
   "execution_count": 138,
   "metadata": {},
   "outputs": [],
   "source": [
    "treining_set_T = [[[1, 0, 0], [1, 0, 1], [0, 1, 0]],\n",
    "                  [[1, 0, 0], [0, 0, 1], [1, 0, 1]],\n",
    "                  [[1, 0, 0], [0, 0, 1], [0, 0, 0]]]\n",
    "treining_set_F = [[[0, 0, 1], [0, 1, 0], [1, 0, 0]],\n",
    "                  [[0, 1, 0], [1, 0, 1], [0, 1, 0]],\n",
    "                  [[0, 1, 1], [1, 1, 0], [0, 1, 1]]]"
   ]
  },
  {
   "cell_type": "code",
   "execution_count": 141,
   "metadata": {},
   "outputs": [
    {
     "name": "stdout",
     "output_type": "stream",
     "text": [
      "4\n",
      "4\n",
      "4\n",
      "8\n",
      "8\n",
      "8\n",
      "9\n"
     ]
    },
    {
     "ename": "IndexError",
     "evalue": "list index out of range",
     "output_type": "error",
     "traceback": [
      "\u001b[1;31m---------------------------------------------------------------------------\u001b[0m",
      "\u001b[1;31mIndexError\u001b[0m                                Traceback (most recent call last)",
      "Cell \u001b[1;32mIn[141], line 47\u001b[0m\n\u001b[0;32m     45\u001b[0m \u001b[38;5;28;01mfor\u001b[39;00m t \u001b[38;5;129;01min\u001b[39;00m treining_set_T:\n\u001b[0;32m     46\u001b[0m     \u001b[38;5;28mprint\u001b[39m(generare_rull_list[i][\u001b[38;5;241m1\u001b[39m])\n\u001b[1;32m---> 47\u001b[0m     \u001b[38;5;28;01mif\u001b[39;00m \u001b[38;5;129;01mnot\u001b[39;00m t[\u001b[38;5;28mint\u001b[39m(generare_rull_list[i][\u001b[38;5;241m1\u001b[39m])\u001b[38;5;241m/\u001b[39m\u001b[38;5;241m/\u001b[39m\u001b[38;5;241m3\u001b[39m][(\u001b[38;5;28mint\u001b[39m(generare_rull_list[i][\u001b[38;5;241m1\u001b[39m])\u001b[38;5;241m%\u001b[39m\u001b[38;5;241m3\u001b[39m)]:\n\u001b[0;32m     48\u001b[0m         curr_bool \u001b[38;5;241m=\u001b[39m \u001b[38;5;28;01mFalse\u001b[39;00m\n\u001b[0;32m     49\u001b[0m \u001b[38;5;28;01mif\u001b[39;00m is_not:\n",
      "\u001b[1;31mIndexError\u001b[0m: list index out of range"
     ]
    }
   ],
   "source": [
    "# not p4 or (p4 or p8) and (p2 and p9) or p9\n",
    "\n",
    "operator:str = ''\n",
    "result_T:bool = []\n",
    "result_F:bool = []\n",
    "is_not: bool = False\n",
    "\n",
    "for i in range(len(generare_rull_list)):\n",
    "    curr_bool:bool = True\n",
    "    if generare_rull_list[i] == 'or' or generare_rull_list[i] == 'and':\n",
    "        operator = generare_rull_list[i]\n",
    "    elif generare_rull_list[i] == 'not':\n",
    "        is_not = True\n",
    "    elif generare_rull_list[i][0] == '(':\n",
    "        for t in treining_set_T:\n",
    "            if not t[int(generare_rull_list[i][2])//3][(int(generare_rull_list[i][2])%3)-1]:\n",
    "                curr_bool = False\n",
    "        if is_not:\n",
    "            curr_bool = not curr_bool\n",
    "        \n",
    "        if not len(result_T):\n",
    "                result_T.append(curr_bool)\n",
    "        elif operator == 'or':\n",
    "            result_T[0] = result_T[0] or curr_bool\n",
    "        elif operator == 'and':\n",
    "            result_T[0] = result_T[0] and curr_bool\n",
    "\n",
    "        curr_bool = True\n",
    "\n",
    "        for f in treining_set_F:\n",
    "            if not f[int(generare_rull_list[i][2])//3][(int(generare_rull_list[i][2])%3)-1]:\n",
    "                curr_bool = False\n",
    "        if is_not:\n",
    "            curr_bool = not curr_bool\n",
    "        \n",
    "        if not len(result_F):\n",
    "            result_F.append(curr_bool)\n",
    "        elif operator == 'or':\n",
    "            result_F[0] = result_F[0] or curr_bool\n",
    "        elif operator == 'and':\n",
    "            result_F[0] = result_F[0] and curr_bool\n",
    "        \n",
    "        operator = ''\n",
    "    else:\n",
    "        for t in treining_set_T:\n",
    "            print(generare_rull_list[i][1])\n",
    "            if not t[int(generare_rull_list[i][1])//3][(int(generare_rull_list[i][1])%3)]:\n",
    "                curr_bool = False\n",
    "        if is_not:\n",
    "            curr_bool = not curr_bool\n",
    "        \n",
    "        if not len(result_T):\n",
    "                result_T.append(curr_bool)\n",
    "        elif operator == 'or':\n",
    "            result_T[0] = result_T[0] or curr_bool\n",
    "        elif operator == 'and':\n",
    "            result_T[0] = result_T[0] and curr_bool\n",
    "\n",
    "        curr_bool = True\n",
    "\n",
    "        for f in treining_set_F:\n",
    "            if not f[int(generare_rull_list[i][1])//3][(int(generare_rull_list[i][1])%3)-1]:\n",
    "                curr_bool = False\n",
    "        if is_not:\n",
    "            curr_bool = not curr_bool\n",
    "        \n",
    "        if not len(result_F):\n",
    "            result_F.append(curr_bool)\n",
    "        elif operator == 'or':\n",
    "            result_F[0] = result_F[0] or curr_bool\n",
    "        elif operator == 'and':\n",
    "            result_F[0] = result_F[0] and curr_bool\n",
    "        \n",
    "        operator = ''\n"
   ]
  }
 ],
 "metadata": {
  "kernelspec": {
   "display_name": "base",
   "language": "python",
   "name": "python3"
  },
  "language_info": {
   "codemirror_mode": {
    "name": "ipython",
    "version": 3
   },
   "file_extension": ".py",
   "mimetype": "text/x-python",
   "name": "python",
   "nbconvert_exporter": "python",
   "pygments_lexer": "ipython3",
   "version": "3.11.5"
  }
 },
 "nbformat": 4,
 "nbformat_minor": 2
}
