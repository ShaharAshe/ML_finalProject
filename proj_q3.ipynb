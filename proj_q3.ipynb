{
 "cells": [
  {
   "cell_type": "markdown",
   "metadata": {},
   "source": [
    "### Submitted by:\n",
    "- Shahar Asher - 209305408\n",
    "- Hadar Liel Harush - 211721568"
   ]
  },
  {
   "cell_type": "code",
   "execution_count": 188,
   "metadata": {},
   "outputs": [],
   "source": [
    "import numpy as np\n",
    "import re\n",
    "\n",
    "np.random.seed(0)"
   ]
  },
  {
   "cell_type": "markdown",
   "metadata": {},
   "source": [
    "### Question 1\n",
    "Generate a random logical expression in the format described in section A."
   ]
  },
  {
   "cell_type": "code",
   "execution_count": 189,
   "metadata": {},
   "outputs": [],
   "source": [
    "# q1\n",
    "\n",
    "def GenRundomRule()->str:\n",
    "    \"\"\"\n",
    "    Generate a random rule.\n",
    "\n",
    "    Returns:\n",
    "        str: Randomly generated rule.\n",
    "    \"\"\"\n",
    "    operators = ['and', 'or']\n",
    "    pixels = ['p1', 'p2', 'p3', 'p4', 'p5', 'p6', 'p7', 'p8', 'p9']\n",
    "    rule = ''\n",
    "    closing = []\n",
    "\n",
    "    rule_len = np.random.randint(1, 10)\n",
    "    for i in range(rule_len):\n",
    "        is_closing = False\n",
    "        if i != 0:\n",
    "            rule += ' '\n",
    "            rule += f'{np.random.choice(operators, 1)[0]} '\n",
    "            is_closing = np.random.randint(10) != 0\n",
    "        if is_closing and len(closing) == 0 and i != rule_len-1:\n",
    "            rule += '('\n",
    "            closing.append(')')\n",
    "        else:\n",
    "            is_closing = False\n",
    "\n",
    "        if np.random.randint(10) == 0:\n",
    "            rule += 'not '\n",
    "        rule += f'{np.random.choice(pixels,1)[0]}'\n",
    "        if not is_closing and len(closing) != 0:\n",
    "            rule += ')'\n",
    "            closing.pop()\n",
    "    return rule"
   ]
  },
  {
   "cell_type": "markdown",
   "metadata": {},
   "source": [
    "### Question 2\n",
    "Check if the generated rule matches the training set presented at the beginning of the question, and if so, determine that the rule is valid."
   ]
  },
  {
   "cell_type": "code",
   "execution_count": 190,
   "metadata": {},
   "outputs": [],
   "source": [
    "treining_set_T = [[[1, 0, 0], [1, 0, 1], [0, 1, 0]],\n",
    "                  [[1, 0, 0], [0, 0, 1], [1, 0, 1]],\n",
    "                  [[1, 0, 0], [0, 0, 1], [0, 0, 0]]]\n",
    "treining_set_F = [[[0, 0, 1], [0, 1, 0], [1, 0, 0]],\n",
    "                  [[0, 1, 0], [1, 0, 1], [0, 1, 0]],\n",
    "                  [[0, 1, 1], [1, 1, 0], [0, 1, 1]]]"
   ]
  },
  {
   "cell_type": "code",
   "execution_count": 191,
   "metadata": {},
   "outputs": [],
   "source": [
    "def removeP(lst):\n",
    "    \"\"\"\n",
    "    Remove 'p' identifiers from the list.\n",
    "\n",
    "    Args:\n",
    "        lst (list): List containing logical components.\n",
    "\n",
    "    Returns:\n",
    "        list: List with 'p' identifiers removed.\n",
    "    \"\"\"\n",
    "    generare_rule_list = [re.findall(r'\\(||\\)||not||[0-9]||or||and', rule) for rule in lst.split(' ')]\n",
    "    generare_rule_list = [r for rule in generare_rule_list for r in rule if r != '']\n",
    "    return generare_rule_list"
   ]
  },
  {
   "cell_type": "code",
   "execution_count": 192,
   "metadata": {},
   "outputs": [],
   "source": [
    "def addClosing(lst):\n",
    "    \"\"\"\n",
    "    Add closing parentheses to the list of logical components.\n",
    "\n",
    "    Args:\n",
    "        lst (list): List containing logical components.\n",
    "\n",
    "    Returns:\n",
    "        list: List with closing parentheses added.\n",
    "    \"\"\"\n",
    "    is_close = True\n",
    "    is_in = False\n",
    "\n",
    "    list_len = len(lst)\n",
    "    i = 0\n",
    "    while i <= list_len:\n",
    "        if is_close and not is_in:\n",
    "            lst.insert(i, '(')\n",
    "            is_close = False\n",
    "            list_len+=1\n",
    "        elif (i == list_len or (lst[i] == 'and' and not is_in)) and not is_close:\n",
    "                lst.insert(i, ')')\n",
    "                is_close = True\n",
    "                list_len+=1\n",
    "                i+=1\n",
    "        elif lst[i] == '(':\n",
    "            is_in = True\n",
    "        elif lst[i] == ')':\n",
    "            is_in = False\n",
    "        i+=1\n",
    "    return lst"
   ]
  },
  {
   "cell_type": "code",
   "execution_count": 193,
   "metadata": {},
   "outputs": [],
   "source": [
    "def removeClosing(lst, rule_list_len, rule):\n",
    "    \"\"\"\n",
    "    Remove closing parentheses and associated components from the list.\n",
    "\n",
    "    Args:\n",
    "        lst (list): List containing logical components.\n",
    "        rule (int): Index of the rule.\n",
    "\n",
    "    Returns:\n",
    "        tuple: Tuple containing the modified list and its length.\n",
    "    \"\"\"\n",
    "    temp_lst = []\n",
    "    i = rule + 1\n",
    "    lst[rule] = temp_lst\n",
    "    while lst[i] != ')':\n",
    "        if lst[i] == '(':\n",
    "            lst, rule_list_len = removeClosing(lst, rule_list_len, i)\n",
    "        elif lst[i] == 'not':\n",
    "            lst[i+1] = f'-{lst[i+1]}'\n",
    "            lst.pop(i)\n",
    "            rule_list_len -= 1\n",
    "        temp_lst.append(lst[i])\n",
    "        lst.pop(i)\n",
    "        rule_list_len -= 1\n",
    "    else:\n",
    "        lst.pop(i)\n",
    "        rule_list_len -= 1\n",
    "    return (lst, rule_list_len)"
   ]
  },
  {
   "cell_type": "code",
   "execution_count": 194,
   "metadata": {},
   "outputs": [],
   "source": [
    "def removeNotAndClosing(lst):\n",
    "    \"\"\"\n",
    "    Remove negations and closing parentheses from the list of logical components.\n",
    "\n",
    "    Args:\n",
    "        lst (list): List containing logical components.\n",
    "\n",
    "    Returns:\n",
    "        list: List with negations and closing parentheses removed.\n",
    "    \"\"\"\n",
    "    rule_list_len = len(lst)\n",
    "    rule = 0\n",
    "    while rule < rule_list_len:\n",
    "        if lst[rule] == 'not':\n",
    "            lst[rule+1] = f'-{lst[rule+1]}'\n",
    "            lst.pop(rule)\n",
    "            rule_list_len -= 1\n",
    "        elif lst[rule] == '(':\n",
    "            lst, rule_list_len = removeClosing(lst, rule_list_len, rule)\n",
    "        rule+=1\n",
    "    return lst"
   ]
  },
  {
   "cell_type": "code",
   "execution_count": 195,
   "metadata": {},
   "outputs": [],
   "source": [
    "def to_int(lst):\n",
    "    \"\"\"\n",
    "    Convert elements of the list to integers.\n",
    "\n",
    "    Args:\n",
    "        lst (list): List containing elements to be converted to integers.\n",
    "\n",
    "    Returns:\n",
    "        list: List with elements converted to integers.\n",
    "    \"\"\"\n",
    "    filtered_list = []\n",
    "    for rule in lst:\n",
    "        if isinstance(rule, list):\n",
    "            filtered_list.append(to_int(rule))\n",
    "        elif rule != 'or' and rule != 'and':\n",
    "            filtered_list.append(int(rule))\n",
    "        else:\n",
    "            filtered_list.append(rule)\n",
    "    return filtered_list"
   ]
  },
  {
   "cell_type": "code",
   "execution_count": 196,
   "metadata": {},
   "outputs": [],
   "source": [
    "def checkBoolRule(rule_lst):\n",
    "    \"\"\"\n",
    "    Check the boolean rule represented by the list of logical components.\n",
    "\n",
    "    Args:\n",
    "        rule_lst (list): List containing logical components of the rule.\n",
    "\n",
    "    Returns:\n",
    "        bool: True if the rule is satisfied, False otherwise.\n",
    "    \"\"\"\n",
    "    bool_rule_lst = []\n",
    "    operator = ''\n",
    "    for rule in range(len(rule_lst)):\n",
    "        if isinstance(rule_lst[rule], list):\n",
    "            bool_lst_temp = checkBoolRule(rule_lst[rule])\n",
    "            if bool_rule_lst == []:\n",
    "                bool_rule_lst.append(bool_lst_temp)\n",
    "            elif operator == 'or':\n",
    "                bool_rule_lst[0] = bool_rule_lst[0] or bool_lst_temp\n",
    "            elif operator == 'and':\n",
    "                bool_rule_lst[0] = bool_rule_lst[0] and bool_lst_temp\n",
    "        elif bool_rule_lst == []:\n",
    "            bool_rule_lst.append(rule_lst[rule])\n",
    "        elif rule_lst[rule] == 'or':\n",
    "            operator = 'or'\n",
    "        elif rule_lst[rule] == 'and':\n",
    "            operator = 'and'\n",
    "        else:\n",
    "            if operator == 'or':\n",
    "                bool_rule_lst[0] = bool_rule_lst[0] or rule_lst[rule]\n",
    "            elif operator == 'and':\n",
    "                bool_rule_lst[0] = bool_rule_lst[0] and rule_lst[rule]\n",
    "    return bool_rule_lst[0]"
   ]
  },
  {
   "cell_type": "code",
   "execution_count": 197,
   "metadata": {},
   "outputs": [],
   "source": [
    "def checkForSet(st, rule_lst):\n",
    "    \"\"\"\n",
    "    Check if the rule list is satisfied by the training set.\n",
    "\n",
    "    Args:\n",
    "        st (list): Training set.\n",
    "        rule_lst (list): List representing the rule.\n",
    "\n",
    "    Returns:\n",
    "        bool: True if the rule is satisfied, False otherwise.\n",
    "    \"\"\"\n",
    "    check_rule_lst = []\n",
    "    for rule in rule_lst:\n",
    "        if isinstance(rule, list):\n",
    "            check_rule_lst.append(checkForSet(st, rule))\n",
    "        elif rule == 'or' or rule == 'and':\n",
    "            check_rule_lst.append(rule)\n",
    "        else:\n",
    "            row = (np.abs(rule)//3)-1 if np.abs(rule)%3 == 0 else np.abs(rule)//3\n",
    "            if rule > 0:\n",
    "                check_rule_lst.append(st[row][(np.abs(rule)%3)-1] != 0)\n",
    "            else:\n",
    "                check_rule_lst.append(st[row][(np.abs(rule)%3)-1] == 0)\n",
    "    return checkBoolRule(check_rule_lst)"
   ]
  },
  {
   "cell_type": "code",
   "execution_count": 198,
   "metadata": {},
   "outputs": [],
   "source": [
    "def check_rule(rule_lst, treining_set):\n",
    "    \"\"\"\n",
    "    Check if the given rule list is satisfied by the training set.\n",
    "\n",
    "    Args:\n",
    "        rule_list (list): List representing the rule.\n",
    "        training_set (list): Training set.\n",
    "\n",
    "    Returns:\n",
    "        list: List of boolean values indicating whether the rule is satisfied for each set in the training set.\n",
    "    \"\"\"\n",
    "    check_rule_lst = []\n",
    "    for st in treining_set:\n",
    "        check_rule_lst.append(checkForSet(st, rule_lst))\n",
    "    return check_rule_lst"
   ]
  },
  {
   "cell_type": "code",
   "execution_count": 199,
   "metadata": {},
   "outputs": [],
   "source": [
    "# q2\n",
    "\n",
    "def legalRule():\n",
    "    \"\"\"\n",
    "    Generate a legal rule.\n",
    "\n",
    "    Returns:\n",
    "        tuple: A tuple containing the generated rule and its classification.\n",
    "    \"\"\"\n",
    "    while True:\n",
    "        generare_rule = GenRundomRule()\n",
    "        generare_rule_list = removeP(generare_rule)\n",
    "        generare_rule_list = addClosing(generare_rule_list)\n",
    "        generare_rule_list = removeNotAndClosing(generare_rule_list)\n",
    "        generare_rule_list = to_int(generare_rule_list)\n",
    "        check_rule_T = check_rule(generare_rule_list, treining_set_T)\n",
    "        check_rule_F = check_rule(generare_rule_list, treining_set_F)\n",
    "\n",
    "        if True in check_rule_T and False not in check_rule_T:\n",
    "            if True not in check_rule_F:\n",
    "                return (generare_rule, True)\n",
    "        elif True in check_rule_F and False not in check_rule_F:\n",
    "            if True not in check_rule_T:\n",
    "                return (generare_rule, False)"
   ]
  },
  {
   "cell_type": "code",
   "execution_count": 200,
   "metadata": {},
   "outputs": [
    {
     "name": "stdout",
     "output_type": "stream",
     "text": [
      "legal rule as --False--:\n",
      "--------------------\n",
      "p3 or (p4 and p2)\n"
     ]
    }
   ],
   "source": [
    "generare_rule, classification = legalRule()\n",
    "print(f'legal rule as --{classification}--:\\n--------------------\\n{generare_rule}')\n"
   ]
  },
  {
   "cell_type": "markdown",
   "metadata": {},
   "source": [
    "### Question 3\n",
    "Apply the valid rule to the example."
   ]
  },
  {
   "cell_type": "code",
   "execution_count": 201,
   "metadata": {},
   "outputs": [],
   "source": [
    "training_example = [[[1, 0, 0], [0, 1, 0], [0, 0, 1]]]"
   ]
  },
  {
   "cell_type": "code",
   "execution_count": 202,
   "metadata": {},
   "outputs": [],
   "source": [
    "# q3\n",
    "\n",
    "def activate_rule(rule, trining_set):\n",
    "    \"\"\"\n",
    "    Activate a rule on the training set.\n",
    "\n",
    "    Args:\n",
    "        rule (str): Rule to activate.\n",
    "        training_set (list): Training set.\n",
    "\n",
    "    Returns:\n",
    "        bool: True if the rule is activated, False otherwise.\n",
    "    \"\"\"\n",
    "    generare_rule_list = removeP(rule)\n",
    "    generare_rule_list = addClosing(generare_rule_list)\n",
    "    generare_rule_list = removeNotAndClosing(generare_rule_list)\n",
    "    generare_rule_list = to_int(generare_rule_list)\n",
    "    check_rule_ex = check_rule(generare_rule_list, trining_set)\n",
    "\n",
    "    if True in check_rule_ex and False not in check_rule_ex:\n",
    "        return True\n",
    "    else:\n",
    "        return False"
   ]
  },
  {
   "cell_type": "code",
   "execution_count": 203,
   "metadata": {},
   "outputs": [
    {
     "name": "stdout",
     "output_type": "stream",
     "text": [
      "The rule is not activated on the training example.\n",
      "and it gives: --- False ---\n"
     ]
    }
   ],
   "source": [
    "if activate_rule(generare_rule, training_example):\n",
    "    print(f'The rule is activated on the training example.\\nand it gives: --- True ---')\n",
    "else:\n",
    "    print(f'The rule is not activated on the training example.\\nand it gives: --- False ---')"
   ]
  },
  {
   "cell_type": "markdown",
   "metadata": {},
   "source": [
    "### Question 4\n",
    "Use a loop that utilizes the previous parts of the code to find 20 rules that yield True on the example, and 20 rules that yield False on the same example."
   ]
  },
  {
   "cell_type": "code",
   "execution_count": 204,
   "metadata": {},
   "outputs": [],
   "source": [
    "# q4\n",
    "\n",
    "def find_rule(bool_r):\n",
    "    \"\"\"\n",
    "    Find legal rules that satisfy the conditions.\n",
    "\n",
    "    Args:\n",
    "        bool_r (bool): Boolean value indicating the condition.\n",
    "        num_rules (int): Number of rules to find.\n",
    "\n",
    "    Returns:\n",
    "        list: List of found rules.\n",
    "    \"\"\"\n",
    "    lst = []\n",
    "    for i in range(20):\n",
    "        while True:\n",
    "            temp_rule = legalRule()\n",
    "            if temp_rule[1] == bool_r and activate_rule(temp_rule[0], training_example) and temp_rule not in lst:\n",
    "                lst.append(temp_rule)\n",
    "                break\n",
    "    return lst"
   ]
  },
  {
   "cell_type": "code",
   "execution_count": 205,
   "metadata": {},
   "outputs": [
    {
     "name": "stdout",
     "output_type": "stream",
     "text": [
      "[('p1 and (p5 or p1) or p7', True), ('p1 or (not p6 and not p5)', True), ('p1', True), ('p1 and (p5 and p8) or (p6 or p1) or (p8 and not p8)', True), ('p1 and (p8 or p1)', True), ('p1 and (p1 or p9)', True), ('p1 and (not p7 or p9) or (p9 and p3) or (p2 or p5)', True), ('not p4 or p5 or (p8 and p6) and p1', True), ('p1 and p1', True), ('p4 or (p3 and p9) or (p1 or p9) or (p4 and p8) and p1', True), ('p1 or (p7 and p1) and (p9 or p1) or (p3 or p6) or p6', True), ('p1 or p1', True), ('p1 and (p3 or p8) or not p2', True), ('not p2 or (p4 and p1) and p1', True), ('p1 or (p6 and p9)', True), ('p1 and (p2 and p2) or (p1 or p7)', True), ('p1 and (p4 or p1) or (p9 or p7) or not p9', True), ('p1 and (p1 or p6) or (p5 and p5) or (p3 and p9) or p6', True), ('p1 or (p8 and p7) and (p6 or p1) or (p1 and not p7)', True), ('p1 and (p7 and p2) or (p1 or p6)', True)]\n",
      "[('p2 or (p5 or p3) and (not p4 or p1) or not p7', False), ('not p1 or p2 or (p5 and p9)', False), ('p3 or (p3 or p3) or not p1 or (p1 and p5) and p1 or (not p9 or p5)', False), ('p2 or p5', False), ('p2 or p5 or not p6', False), ('p5 or (p2 or p5)', False), ('p5 or p2', False), ('p3 or (p1 and p8) or (p5 or p6) and (p5 or p2) or (p1 and p3)', False), ('p5 or (p2 and p8)', False), ('p7 or (p8 and p3) or (p9 and p1) or (p4 and p2) and (p2 or p5)', False), ('p3 or (p5 and not p3) or (p2 and p6) or (p9 and p4)', False), ('p5 or (p8 and p2)', False), ('p5 or (not p3 and p2)', False), ('p5 or p4 and (p2 or p5)', False), ('p3 or (p5 or p2)', False), ('not p1 or p5', False), ('p5 or (p5 and p4) or p3 or p2 or p5 or p5', False), ('p2 or (not p6 and p9) or p5', False), ('p5 or not p1', False), ('p3 or (not p6 and p5) or p2', False)]\n"
     ]
    }
   ],
   "source": [
    "rules_lst_T = find_rule(True)\n",
    "rules_lst_F = find_rule(False)\n",
    "\n",
    "print(rules_lst_T)\n",
    "print(rules_lst_F)"
   ]
  },
  {
   "cell_type": "markdown",
   "metadata": {},
   "source": [
    "### Question 5\n",
    "Write the results to a text file according to the following guidelines:\n",
    "- The file name will be txt.rules.\n",
    "- The first line in the file will be:  \n",
    "  `# Rules that give True on test`\n",
    "- Following that, the 20 rules that yield true on the test will appear, with each rule written on a separate line.\n",
    "- The 22nd line in the file will be:  \n",
    "  `# Rules that give False on test`\n",
    "- Following that, the 20 rules that yield false on the test will appear, with each rule written on a separate line.\n",
    "- There should be no empty lines in the file."
   ]
  },
  {
   "cell_type": "code",
   "execution_count": 206,
   "metadata": {},
   "outputs": [],
   "source": [
    "# q5\n",
    "\n",
    "with open('.//rules.txt', 'w') as file:\n",
    "    file.write('# Rules that give True on test\\n')\n",
    "    for rule in rules_lst_T:\n",
    "        file.write(f'{rule[0]}\\n')\n",
    "    file.write('# Rules that give False on test\\n')\n",
    "    for rule in rules_lst_F:\n",
    "        file.write(f'{rule[0]}\\n')\n",
    "with open('.//rules.txt', 'r+') as file:\n",
    "    content = file.read()\n",
    "    content = content.rstrip('\\n')\n",
    "with open('.//rules.txt', 'w') as file:\n",
    "    file.write(content)"
   ]
  }
 ],
 "metadata": {
  "kernelspec": {
   "display_name": "base",
   "language": "python",
   "name": "python3"
  },
  "language_info": {
   "codemirror_mode": {
    "name": "ipython",
    "version": 3
   },
   "file_extension": ".py",
   "mimetype": "text/x-python",
   "name": "python",
   "nbconvert_exporter": "python",
   "pygments_lexer": "ipython3",
   "version": "3.11.5"
  }
 },
 "nbformat": 4,
 "nbformat_minor": 2
}
