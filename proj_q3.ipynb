{
 "cells": [
  {
   "cell_type": "markdown",
   "metadata": {},
   "source": [
    "### Submitted by:\n",
    "- Shahar Asher\n",
    "- Hadar Liel Harush"
   ]
  },
  {
   "cell_type": "code",
   "execution_count": 310,
   "metadata": {},
   "outputs": [],
   "source": [
    "import numpy as np\n",
    "import re"
   ]
  },
  {
   "cell_type": "code",
   "execution_count": 311,
   "metadata": {},
   "outputs": [],
   "source": [
    "np.random.seed(0)\n",
    "\n",
    "def GenRundomRull()->str:\n",
    "    operators = ['and', 'or']\n",
    "    pixels = ['p1', 'p2', 'p3', 'p4', 'p5', 'p6', 'p7', 'p8', 'p9']\n",
    "    rull = ''\n",
    "    closing = []\n",
    "\n",
    "    rull_len = np.random.randint(1, 10)\n",
    "    for i in range(rull_len):\n",
    "        is_closing = False\n",
    "        if i != 0:\n",
    "            rull += ' '\n",
    "            rull += f'{np.random.choice(operators, 1)[0]} '\n",
    "            is_closing = np.random.randint(10) != 0\n",
    "        if is_closing and len(closing) == 0 and i != rull_len-1:\n",
    "            rull += '('\n",
    "            closing.append(')')\n",
    "        else:\n",
    "            is_closing = False\n",
    "\n",
    "        if np.random.randint(10) == 0:\n",
    "            rull += 'not '\n",
    "        rull += f'{np.random.choice(pixels,1)[0]}'\n",
    "        if not is_closing and len(closing) != 0:\n",
    "            rull += ')'\n",
    "            closing.pop()\n",
    "    return rull"
   ]
  },
  {
   "cell_type": "code",
   "execution_count": 312,
   "metadata": {},
   "outputs": [
    {
     "name": "stdout",
     "output_type": "stream",
     "text": [
      "not p4 or (p4 or p8) and (p2 and p9) or p9\n"
     ]
    }
   ],
   "source": [
    "generare_rull = GenRundomRull()\n",
    "print(generare_rull)"
   ]
  },
  {
   "cell_type": "code",
   "execution_count": 313,
   "metadata": {},
   "outputs": [],
   "source": [
    "treining_set_T = [[[1, 0, 0], [1, 0, 1], [0, 1, 0]],\n",
    "                  [[1, 0, 0], [0, 0, 1], [1, 0, 1]],\n",
    "                  [[1, 0, 0], [0, 0, 1], [0, 0, 0]]]\n",
    "treining_set_F = [[[0, 0, 1], [0, 1, 0], [1, 0, 0]],\n",
    "                  [[0, 1, 0], [1, 0, 1], [0, 1, 0]],\n",
    "                  [[0, 1, 1], [1, 1, 0], [0, 1, 1]]]"
   ]
  },
  {
   "cell_type": "code",
   "execution_count": 314,
   "metadata": {},
   "outputs": [
    {
     "name": "stdout",
     "output_type": "stream",
     "text": [
      "['not', 'p4', 'or', '(p4', 'or', 'p8)', 'and', '(p2', 'and', 'p9)', 'or', 'p9']\n",
      "[['', 'not', ''], ['', '', '4', ''], ['', 'or', ''], ['(', '', '', '4', ''], ['', 'or', ''], ['', '', '8', '', ')', ''], ['', 'and', ''], ['(', '', '', '2', ''], ['', 'and', ''], ['', '', '9', '', ')', ''], ['', 'or', ''], ['', '', '9', '']]\n",
      "['not', '4', 'or', '(', '4', 'or', '8', ')', 'and', '(', '2', 'and', '9', ')', 'or', '9']\n"
     ]
    }
   ],
   "source": [
    "# not p4 or (p4 or p8) and (p2 and p9) or p9\n",
    "print(generare_rull.split(' '))\n",
    "generare_rull_list = [re.findall(r'\\(||\\)||not||[0-9]||or||and', rull) for rull in generare_rull.split(' ')]\n",
    "print(generare_rull_list)\n",
    "generare_rull_list = [r for rull in generare_rull_list for r in rull if r != '']\n",
    "print(generare_rull_list)"
   ]
  },
  {
   "cell_type": "code",
   "execution_count": 315,
   "metadata": {},
   "outputs": [],
   "source": [
    "# not p4 or (p4 or p8) and (p2 and p9) or p9\n",
    "rull_list_len = len(generare_rull_list)\n",
    "rull = 0\n",
    "while rull < rull_list_len:\n",
    "    if generare_rull_list[rull] == 'not':\n",
    "        generare_rull_list[rull+1] = f'-{generare_rull_list[rull+1]}'\n",
    "        generare_rull_list.pop(rull)\n",
    "        rull_list_len -= 1\n",
    "    elif generare_rull_list[rull] == '(':\n",
    "        temp_lst = []\n",
    "        i = rull + 1\n",
    "        generare_rull_list[rull] = temp_lst\n",
    "        while generare_rull_list[i] != ')':\n",
    "            temp_lst.append(generare_rull_list[i])\n",
    "            generare_rull_list.pop(i)\n",
    "            rull_list_len -= 1\n",
    "        else:\n",
    "            generare_rull_list.pop(i)\n",
    "            rull_list_len -= 1\n",
    "    rull+=1"
   ]
  },
  {
   "cell_type": "code",
   "execution_count": 316,
   "metadata": {},
   "outputs": [],
   "source": [
    "def to_int(lst):\n",
    "    filtered_list = []\n",
    "    for rull in lst:\n",
    "        if isinstance(rull, list):\n",
    "            filtered_list.append(to_int(rull))\n",
    "        elif rull != 'or' and rull != 'and':\n",
    "            filtered_list.append(int(rull))\n",
    "        else:\n",
    "            filtered_list.append(rull)\n",
    "    return filtered_list"
   ]
  },
  {
   "cell_type": "code",
   "execution_count": 317,
   "metadata": {},
   "outputs": [
    {
     "name": "stdout",
     "output_type": "stream",
     "text": [
      "[-4, 'or', [4, 'or', 8], 'and', [2, 'and', 9], 'or', 9]\n"
     ]
    }
   ],
   "source": [
    "generare_rull_list = to_int(generare_rull_list)\n",
    "print(generare_rull_list)"
   ]
  },
  {
   "cell_type": "code",
   "execution_count": 318,
   "metadata": {},
   "outputs": [],
   "source": [
    "def check_rull(rull_lst, treining_set):\n",
    "    check_rull_lst = []\n",
    "    for rull in rull_lst:\n",
    "        if isinstance(rull, list):\n",
    "            check_rull_lst.append(check_rull(rull, treining_set))\n",
    "        elif rull == 'or' or rull == 'and':\n",
    "            check_rull_lst.append(rull)\n",
    "        else:\n",
    "            for i in range(len(treining_set)):\n",
    "                row = (np.abs(rull)//3)-1 if np.abs(rull)%3 == 0 else np.abs(rull)//3\n",
    "                if i == 0:\n",
    "                    check_rull_lst.append(treining_set[i][row][(np.abs(rull)%3)-1] != 0)\n",
    "                else:\n",
    "                    if treining_set[i][row][(np.abs(rull)%3)-1] != 0:\n",
    "                        check_rull_lst[-1] = False\n",
    "    return check_rull_lst"
   ]
  },
  {
   "cell_type": "code",
   "execution_count": 319,
   "metadata": {},
   "outputs": [
    {
     "name": "stdout",
     "output_type": "stream",
     "text": [
      "[True, 'or', [True, 'or', True], 'and', [False, 'and', False], 'or', False]\n",
      "[False, 'or', [False, 'or', False], 'and', [False, 'and', False], 'or', False]\n"
     ]
    }
   ],
   "source": [
    "check_rull_T = check_rull(generare_rull_list, treining_set_T)\n",
    "check_rull_F = check_rull(generare_rull_list, treining_set_F)\n",
    "\n",
    "print(check_rull_T)\n",
    "print(check_rull_F)"
   ]
  }
 ],
 "metadata": {
  "kernelspec": {
   "display_name": "base",
   "language": "python",
   "name": "python3"
  },
  "language_info": {
   "codemirror_mode": {
    "name": "ipython",
    "version": 3
   },
   "file_extension": ".py",
   "mimetype": "text/x-python",
   "name": "python",
   "nbconvert_exporter": "python",
   "pygments_lexer": "ipython3",
   "version": "3.11.5"
  }
 },
 "nbformat": 4,
 "nbformat_minor": 2
}
